{
 "cells": [
  {
   "cell_type": "code",
   "execution_count": null,
   "metadata": {},
   "outputs": [
    {
     "ename": "",
     "evalue": "",
     "output_type": "error",
     "traceback": [
      "\u001b[1;31mRunning cells with 'Python 3.10.2' requires the ipykernel package.\n",
      "\u001b[1;31mRun the following command to install 'ipykernel' into the Python environment. \n",
      "\u001b[1;31mCommand: '/usr/local/bin/python3.10 -m pip install ipykernel -U --user --force-reinstall'"
     ]
    }
   ],
   "source": [
    "import matplotlib.pyplot as plt\n",
    "import numpy as np\n",
    "\n",
    "# Data for the plots\n",
    "x = np.linspace(0, 10, 100)\n",
    "y = np.sin(x)\n",
    "y_scatter = np.random.rand(10)\n",
    "x_scatter = np.random.rand(10)\n",
    "data_hist = np.random.randn(1000)\n",
    "categories = ['A', 'B', 'C', 'D']\n",
    "values = [15, 30, 45, 10]\n",
    "\n",
    "# 1. Line Plot\n",
    "plt.figure(figsize=(10, 6))\n",
    "plt.plot(x, y, label='sin(x)', color='blue', marker='o', linestyle='-', markersize=5)\n",
    "plt.title('Simple Line Plot')\n",
    "plt.xlabel('X-axis')\n",
    "plt.ylabel('Y-axis')\n",
    "plt.grid(True)\n",
    "plt.legend()\n",
    "plt.show()\n",
    "\n",
    "# 2. Scatter Plot\n",
    "plt.figure(figsize=(10, 6))\n",
    "plt.scatter(x_scatter, y_scatter, color='red', marker='^', s=100)  # 's' is for size of the marker\n",
    "plt.title('Simple Scatter Plot')\n",
    "plt.xlabel('X-axis')\n",
    "plt.ylabel('Y-axis')\n",
    "plt.grid(True)\n",
    "plt.show()\n",
    "\n",
    "# 3. Histogram\n",
    "plt.figure(figsize=(10, 6))\n",
    "plt.hist(data_hist, bins=30, color='green', edgecolor='black')\n",
    "plt.title('Simple Histogram')\n",
    "plt.xlabel('Value')\n",
    "plt.ylabel('Frequency')\n",
    "plt.grid(True)\n",
    "plt.show()\n",
    "\n",
    "# 4. Bar Plot\n",
    "plt.figure(figsize=(10, 6))\n",
    "plt.bar(categories, values, color='purple', edgecolor='black')\n",
    "plt.title('Simple Bar Plot')\n",
    "plt.xlabel('Category')\n",
    "plt.ylabel('Value')\n",
    "plt.grid(True)\n",
    "plt.show()\n"
   ]
  }
 ],
 "metadata": {
  "kernelspec": {
   "display_name": "Python 3",
   "language": "python",
   "name": "python3"
  },
  "language_info": {
   "name": "python",
   "version": "3.10.2"
  }
 },
 "nbformat": 4,
 "nbformat_minor": 2
}
