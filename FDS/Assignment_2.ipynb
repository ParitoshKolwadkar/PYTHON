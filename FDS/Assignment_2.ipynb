{
 "cells": [
  {
   "cell_type": "code",
   "execution_count": 3,
   "id": "c73769d2-0be3-4206-867a-032ed61de7f0",
   "metadata": {},
   "outputs": [
    {
     "data": {
      "text/html": [
       "<div>\n",
       "<style scoped>\n",
       "    .dataframe tbody tr th:only-of-type {\n",
       "        vertical-align: middle;\n",
       "    }\n",
       "\n",
       "    .dataframe tbody tr th {\n",
       "        vertical-align: top;\n",
       "    }\n",
       "\n",
       "    .dataframe thead th {\n",
       "        text-align: right;\n",
       "    }\n",
       "</style>\n",
       "<table border=\"1\" class=\"dataframe\">\n",
       "  <thead>\n",
       "    <tr style=\"text-align: right;\">\n",
       "      <th></th>\n",
       "      <th>Gender</th>\n",
       "      <th>Height</th>\n",
       "      <th>Weight</th>\n",
       "    </tr>\n",
       "  </thead>\n",
       "  <tbody>\n",
       "    <tr>\n",
       "      <th>0</th>\n",
       "      <td>Male</td>\n",
       "      <td>73.847017</td>\n",
       "      <td>241.893563</td>\n",
       "    </tr>\n",
       "    <tr>\n",
       "      <th>1</th>\n",
       "      <td>Male</td>\n",
       "      <td>68.781904</td>\n",
       "      <td>162.310473</td>\n",
       "    </tr>\n",
       "    <tr>\n",
       "      <th>2</th>\n",
       "      <td>Male</td>\n",
       "      <td>74.110105</td>\n",
       "      <td>212.740856</td>\n",
       "    </tr>\n",
       "    <tr>\n",
       "      <th>3</th>\n",
       "      <td>Male</td>\n",
       "      <td>71.730978</td>\n",
       "      <td>220.042470</td>\n",
       "    </tr>\n",
       "    <tr>\n",
       "      <th>4</th>\n",
       "      <td>Male</td>\n",
       "      <td>69.881796</td>\n",
       "      <td>206.349801</td>\n",
       "    </tr>\n",
       "  </tbody>\n",
       "</table>\n",
       "</div>"
      ],
      "text/plain": [
       "  Gender     Height      Weight\n",
       "0   Male  73.847017  241.893563\n",
       "1   Male  68.781904  162.310473\n",
       "2   Male  74.110105  212.740856\n",
       "3   Male  71.730978  220.042470\n",
       "4   Male  69.881796  206.349801"
      ]
     },
     "execution_count": 3,
     "metadata": {},
     "output_type": "execute_result"
    }
   ],
   "source": [
    "import numpy as np\n",
    "import pandas as pd\n",
    "\n",
    "path = \"weight-height.csv\"\n",
    "df = pd.read_csv(path)\n",
    "df.head()\n"
   ]
  },
  {
   "cell_type": "code",
   "execution_count": 2,
   "id": "c096effc-9723-4aa1-b9b1-01ba1169ae69",
   "metadata": {},
   "outputs": [
    {
     "name": "stdout",
     "output_type": "stream",
     "text": [
      "(10000, 3)\n",
      "Gender     object\n",
      "Height    float64\n",
      "Weight    float64\n",
      "dtype: object\n"
     ]
    }
   ],
   "source": [
    "print(df.shape)\n",
    "print(df.dtypes)"
   ]
  },
  {
   "cell_type": "code",
   "execution_count": 4,
   "id": "0e7e6408-2fb8-46cf-8f5d-1284c2396ede",
   "metadata": {},
   "outputs": [
    {
     "name": "stdout",
     "output_type": "stream",
     "text": [
      "      Gender  Height  Weight\n",
      "0      False   False   False\n",
      "1      False   False   False\n",
      "2      False   False   False\n",
      "3      False   False   False\n",
      "4      False   False   False\n",
      "...      ...     ...     ...\n",
      "9995   False   False   False\n",
      "9996   False   False   False\n",
      "9997   False   False   False\n",
      "9998   False   False   False\n",
      "9999   False   False   False\n",
      "\n",
      "[10000 rows x 3 columns]\n",
      "Gender    0\n",
      "Height    0\n",
      "Weight    0\n",
      "dtype: int64\n"
     ]
    }
   ],
   "source": [
    "print(df.isnull())\n",
    "print(df.isnull().sum())"
   ]
  },
  {
   "cell_type": "code",
   "execution_count": 5,
   "id": "fa715713-399f-4391-a6a7-9cace3a3326a",
   "metadata": {},
   "outputs": [
    {
     "name": "stdout",
     "output_type": "stream",
     "text": [
      "      Gender  Height  Weight\n",
      "0       True    True    True\n",
      "1       True    True    True\n",
      "2       True    True    True\n",
      "3       True    True    True\n",
      "4       True    True    True\n",
      "...      ...     ...     ...\n",
      "9995    True    True    True\n",
      "9996    True    True    True\n",
      "9997    True    True    True\n",
      "9998    True    True    True\n",
      "9999    True    True    True\n",
      "\n",
      "[10000 rows x 3 columns]\n",
      "Gender    10000\n",
      "Height    10000\n",
      "Weight    10000\n",
      "dtype: int64\n"
     ]
    }
   ],
   "source": [
    "print(df.notnull())\n",
    "print(df.notnull().sum())"
   ]
  },
  {
   "cell_type": "code",
   "execution_count": 6,
   "id": "feaccc05-c74b-4384-bda9-007eddabcdf8",
   "metadata": {},
   "outputs": [
    {
     "name": "stdout",
     "output_type": "stream",
     "text": [
      "0       73.847017\n",
      "1       68.781904\n",
      "2       74.110105\n",
      "3       71.730978\n",
      "4       69.881796\n",
      "          ...    \n",
      "9995    66.172652\n",
      "9996    67.067155\n",
      "9997    63.867992\n",
      "9998    69.034243\n",
      "9999    61.944246\n",
      "Name: Height, Length: 10000, dtype: float64\n",
      "      Gender     Height      Weight\n",
      "0       Male  73.847017  241.893563\n",
      "1       Male  68.781904  162.310473\n",
      "2       Male  74.110105  212.740856\n",
      "3       Male  71.730978  220.042470\n",
      "4       Male  69.881796  206.349801\n",
      "...      ...        ...         ...\n",
      "9995  Female  66.172652  136.777454\n",
      "9996  Female  67.067155  170.867906\n",
      "9997  Female  63.867992  128.475319\n",
      "9998  Female  69.034243  163.852461\n",
      "9999  Female  61.944246  113.649103\n",
      "\n",
      "[10000 rows x 3 columns]\n",
      "      Gender     Height      Weight\n",
      "0       Male  73.847017  241.893563\n",
      "1       Male  68.781904  162.310473\n",
      "2       Male  74.110105  212.740856\n",
      "3       Male  71.730978  220.042470\n",
      "4       Male  69.881796  206.349801\n",
      "...      ...        ...         ...\n",
      "9995  Female  66.172652  136.777454\n",
      "9996  Female  67.067155  170.867906\n",
      "9997  Female  63.867992  128.475319\n",
      "9998  Female  69.034243  163.852461\n",
      "9999  Female  61.944246  113.649103\n",
      "\n",
      "[10000 rows x 3 columns]\n"
     ]
    },
    {
     "name": "stderr",
     "output_type": "stream",
     "text": [
      "/var/folders/3j/gg6dm61x5bq_3rz_j901y0g80000gn/T/ipykernel_32764/1472251450.py:2: FutureWarning: DataFrame.fillna with 'method' is deprecated and will raise in a future version. Use obj.ffill() or obj.bfill() instead.\n",
      "  print(df.fillna(method = 'ffill'))\n",
      "/var/folders/3j/gg6dm61x5bq_3rz_j901y0g80000gn/T/ipykernel_32764/1472251450.py:3: FutureWarning: DataFrame.fillna with 'method' is deprecated and will raise in a future version. Use obj.ffill() or obj.bfill() instead.\n",
      "  print(df.fillna(method = 'bfill'))\n"
     ]
    }
   ],
   "source": [
    "print(df['Height'].fillna(52))\n",
    "print(df.fillna(method = 'ffill'))\n",
    "print(df.fillna(method = 'bfill'))"
   ]
  },
  {
   "cell_type": "code",
   "execution_count": 7,
   "id": "c62c1765-26c5-4a94-a85a-3b682b58a497",
   "metadata": {},
   "outputs": [
    {
     "name": "stderr",
     "output_type": "stream",
     "text": [
      "/var/folders/3j/gg6dm61x5bq_3rz_j901y0g80000gn/T/ipykernel_32764/954852501.py:1: FutureWarning: A value is trying to be set on a copy of a DataFrame or Series through chained assignment using an inplace method.\n",
      "The behavior will change in pandas 3.0. This inplace method will never work because the intermediate object on which we are setting values always behaves as a copy.\n",
      "\n",
      "For example, when doing 'df[col].method(value, inplace=True)', try using 'df.method({col: value}, inplace=True)' or df[col] = df[col].method(value) instead, to perform the operation inplace on the original object.\n",
      "\n",
      "\n",
      "  df['Height'].fillna(df['Height'].mean() , inplace = True)\n"
     ]
    }
   ],
   "source": [
    "df['Height'].fillna(df['Height'].mean() , inplace = True)\n"
   ]
  },
  {
   "cell_type": "code",
   "execution_count": 8,
   "id": "b17f3b05-2aba-411a-a28f-4795cf7150e2",
   "metadata": {},
   "outputs": [
    {
     "name": "stdout",
     "output_type": "stream",
     "text": [
      "         Height      Weight  Gender_Female  Gender_Male\n",
      "0     73.847017  241.893563          False         True\n",
      "1     68.781904  162.310473          False         True\n",
      "2     74.110105  212.740856          False         True\n",
      "3     71.730978  220.042470          False         True\n",
      "4     69.881796  206.349801          False         True\n",
      "...         ...         ...            ...          ...\n",
      "9995  66.172652  136.777454           True        False\n",
      "9996  67.067155  170.867906           True        False\n",
      "9997  63.867992  128.475319           True        False\n",
      "9998  69.034243  163.852461           True        False\n",
      "9999  61.944246  113.649103           True        False\n",
      "\n",
      "[10000 rows x 4 columns]\n"
     ]
    }
   ],
   "source": [
    "df_encoding= pd.get_dummies(df)\n",
    "print(df_encoding)"
   ]
  },
  {
   "cell_type": "code",
   "execution_count": 9,
   "id": "2ca1a001-0598-4fac-8050-5ff4eb8c04d6",
   "metadata": {},
   "outputs": [
    {
     "name": "stdout",
     "output_type": "stream",
     "text": [
      "[[ 1.94406149]\n",
      " [ 0.62753668]\n",
      " [ 2.01244346]\n",
      " ...\n",
      " [-0.64968792]\n",
      " [ 0.69312469]\n",
      " [-1.14970831]]\n"
     ]
    }
   ],
   "source": [
    "import numpy as np\n",
    "from sklearn.preprocessing import MinMaxScaler, StandardScaler\n",
    "scalar = StandardScaler(); \n",
    "data_standardised = scalar.fit_transform(df[['Height']])\n",
    "print(data_standardised)"
   ]
  },
  {
   "cell_type": "code",
   "execution_count": 10,
   "id": "66a3fae9-678a-4994-b2f4-508da1ef21c4",
   "metadata": {},
   "outputs": [
    {
     "name": "stdout",
     "output_type": "stream",
     "text": [
      "Normalized data\n",
      " [[0.79172838]\n",
      " [0.58695829]\n",
      " [0.8023644 ]\n",
      " ...\n",
      " [0.38830089]\n",
      " [0.59715974]\n",
      " [0.31052854]]\n"
     ]
    }
   ],
   "source": [
    "normalizer = MinMaxScaler()\n",
    "data_normalized = normalizer.fit_transform(df[['Height']])\n",
    "print(\"Normalized data\\n\",data_normalized)"
   ]
  },
  {
   "cell_type": "code",
   "execution_count": null,
   "id": "593af403-f54d-4887-b9fc-151a27c3221d",
   "metadata": {},
   "outputs": [],
   "source": []
  }
 ],
 "metadata": {
  "kernelspec": {
   "display_name": "Python 3 (ipykernel)",
   "language": "python",
   "name": "python3"
  },
  "language_info": {
   "codemirror_mode": {
    "name": "ipython",
    "version": 3
   },
   "file_extension": ".py",
   "mimetype": "text/x-python",
   "name": "python",
   "nbconvert_exporter": "python",
   "pygments_lexer": "ipython3",
   "version": "3.12.4"
  }
 },
 "nbformat": 4,
 "nbformat_minor": 5
}
