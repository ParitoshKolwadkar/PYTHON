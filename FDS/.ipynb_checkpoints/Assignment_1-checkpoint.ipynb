{
 "cells": [
  {
   "cell_type": "code",
   "execution_count": 7,
   "id": "a8da7022-b99a-4b46-b7fd-699cf0da647a",
   "metadata": {},
   "outputs": [
    {
     "name": "stdout",
     "output_type": "stream",
     "text": [
      "      Gender     Height      Weight\n",
      "0       Male  73.847017  241.893563\n",
      "1       Male  68.781904  162.310473\n",
      "2       Male  74.110105  212.740856\n",
      "3       Male  71.730978  220.042470\n",
      "4       Male  69.881796  206.349801\n",
      "...      ...        ...         ...\n",
      "9995  Female  66.172652  136.777454\n",
      "9996  Female  67.067155  170.867906\n",
      "9997  Female  63.867992  128.475319\n",
      "9998  Female  69.034243  163.852461\n",
      "9999  Female  61.944246  113.649103\n",
      "\n",
      "[10000 rows x 3 columns]\n"
     ]
    }
   ],
   "source": [
    "import numpy as np\n",
    "import pandas as pd\n",
    "\n",
    "path = \"weight-height.csv\"\n",
    "df = pd.read_csv(path)\n",
    "print(data);"
   ]
  },
  {
   "cell_type": "code",
   "execution_count": 8,
   "id": "77c41e20-1bfe-4051-924b-bd258bab047c",
   "metadata": {},
   "outputs": [
    {
     "data": {
      "text/plain": [
       "0       73.847017\n",
       "1       68.781904\n",
       "2       74.110105\n",
       "3       71.730978\n",
       "4       69.881796\n",
       "          ...    \n",
       "9995    66.172652\n",
       "9996    67.067155\n",
       "9997    63.867992\n",
       "9998    69.034243\n",
       "9999    61.944246\n",
       "Name: Height, Length: 10000, dtype: float64"
      ]
     },
     "execution_count": 8,
     "metadata": {},
     "output_type": "execute_result"
    }
   ],
   "source": [
    "df['Height']"
   ]
  },
  {
   "cell_type": "code",
   "execution_count": 11,
   "id": "872acc95-0ad2-4c93-a4cf-2f552ed15ba3",
   "metadata": {},
   "outputs": [
    {
     "name": "stdout",
     "output_type": "stream",
     "text": [
      "10000\n"
     ]
    }
   ],
   "source": [
    "count = len(df['Height'])\n",
    "print(count)"
   ]
  },
  {
   "cell_type": "code",
   "execution_count": 13,
   "id": "531e61b3-aca8-4595-a806-2fa26e12d789",
   "metadata": {},
   "outputs": [
    {
     "name": "stdout",
     "output_type": "stream",
     "text": [
      "663675.5975482106\n"
     ]
    }
   ],
   "source": [
    "sum = 0\n",
    "for i in df['Height']:\n",
    "    sum+=i\n",
    "print(sum)"
   ]
  },
  {
   "cell_type": "code",
   "execution_count": 14,
   "id": "ab25b7a6-8bce-4668-9fb7-b935208a59f7",
   "metadata": {},
   "outputs": [
    {
     "data": {
      "text/plain": [
       "66.36755975482106"
      ]
     },
     "execution_count": 14,
     "metadata": {},
     "output_type": "execute_result"
    }
   ],
   "source": [
    "mean = sum/count\n",
    "mean"
   ]
  },
  {
   "cell_type": "code",
   "execution_count": 18,
   "id": "860aff71-2751-4f4c-bdd6-3765a98ce914",
   "metadata": {},
   "outputs": [
    {
     "name": "stdout",
     "output_type": "stream",
     "text": [
      "66.36755975482124\n"
     ]
    }
   ],
   "source": [
    "npmean = np.mean(df['Height'])\n",
    "print(npmean)"
   ]
  },
  {
   "cell_type": "code",
   "execution_count": 17,
   "id": "41011abe-2c87-43db-bea3-2d0fc1c8bc0d",
   "metadata": {},
   "outputs": [
    {
     "name": "stdout",
     "output_type": "stream",
     "text": [
      "66.31807008178464\n"
     ]
    }
   ],
   "source": [
    "median = df['Height'].median()\n",
    "print(median)"
   ]
  },
  {
   "cell_type": "code",
   "execution_count": 19,
   "id": "bbf38624-e2b3-41e3-b405-44fc2a27e0bb",
   "metadata": {},
   "outputs": [
    {
     "name": "stdout",
     "output_type": "stream",
     "text": [
      "3.8475281207732293\n"
     ]
    }
   ],
   "source": [
    "std = df['Height'].std()\n",
    "print(std)"
   ]
  },
  {
   "cell_type": "code",
   "execution_count": 20,
   "id": "93cb8faa-46a2-48ac-b772-2faf137c1133",
   "metadata": {},
   "outputs": [
    {
     "name": "stdout",
     "output_type": "stream",
     "text": [
      "14.803472640140777\n"
     ]
    }
   ],
   "source": [
    "variance = df['Height'].var()\n",
    "print(variance)"
   ]
  },
  {
   "cell_type": "code",
   "execution_count": 21,
   "id": "79165bee-e6ac-4690-b5dd-273640bcb21a",
   "metadata": {},
   "outputs": [
    {
     "name": "stdout",
     "output_type": "stream",
     "text": [
      "count    10000.000000\n",
      "mean        66.367560\n",
      "std          3.847528\n",
      "min         54.263133\n",
      "25%         63.505620\n",
      "50%         66.318070\n",
      "75%         69.174262\n",
      "max         78.998742\n",
      "Name: Height, dtype: float64\n"
     ]
    }
   ],
   "source": [
    "desc = df['Height'].describe()\n",
    "print(desc)"
   ]
  },
  {
   "cell_type": "code",
   "execution_count": null,
   "id": "c68dacb0-310d-429c-8246-92ffb7a9e8d4",
   "metadata": {},
   "outputs": [],
   "source": []
  }
 ],
 "metadata": {
  "kernelspec": {
   "display_name": "Python 3 (ipykernel)",
   "language": "python",
   "name": "python3"
  },
  "language_info": {
   "codemirror_mode": {
    "name": "ipython",
    "version": 3
   },
   "file_extension": ".py",
   "mimetype": "text/x-python",
   "name": "python",
   "nbconvert_exporter": "python",
   "pygments_lexer": "ipython3",
   "version": "3.12.4"
  }
 },
 "nbformat": 4,
 "nbformat_minor": 5
}
